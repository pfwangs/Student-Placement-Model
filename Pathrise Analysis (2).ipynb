{
 "cells": [
  {
   "cell_type": "markdown",
   "metadata": {},
   "source": [
    "# Data Challenge Assignment \n"
   ]
  },
  {
   "cell_type": "markdown",
   "metadata": {},
   "source": [
    "# Analysis"
   ]
  },
  {
   "cell_type": "code",
   "execution_count": 3,
   "metadata": {},
   "outputs": [],
   "source": [
    "import pandas as pd\n",
    "import numpy as np\n",
    "\n",
    "from sklearn.neighbors import KNeighborsClassifier\n",
    "from sklearn.neural_network import MLPClassifier\n",
    "from sklearn.model_selection import train_test_split\n",
    "from sklearn.neighbors import KNeighborsRegressor\n",
    "from sklearn.neural_network import MLPRegressor\n",
    "\n",
    "from sklearn.preprocessing import OneHotEncoder\n",
    "from sklearn.preprocessing import StandardScaler\n",
    "from sklearn.preprocessing import LabelEncoder\n",
    "\n",
    "from scipy.stats import chi2_contingency\n",
    "from scipy.stats import norm\n",
    "import math\n",
    "from scipy.stats import f_oneway\n",
    "\n",
    "import seaborn as sns\n",
    "\n",
    "from sklearn import metrics\n",
    "from sklearn.metrics import accuracy_score"
   ]
  },
  {
   "cell_type": "code",
   "execution_count": 5,
   "metadata": {},
   "outputs": [],
   "source": [
    "df = pd.read_excel(\"Data_Pathrise.xlsx\")\n",
    "df.drop(columns=['primary_track'],inplace=True)"
   ]
  },
  {
   "cell_type": "markdown",
   "metadata": {},
   "source": [
    "We remove rows with missing values since replacing them with 0 could greatly skew the results of our analysis."
   ]
  },
  {
   "cell_type": "code",
   "execution_count": 6,
   "metadata": {},
   "outputs": [],
   "source": [
    "df = df.dropna()"
   ]
  },
  {
   "cell_type": "markdown",
   "metadata": {},
   "source": [
    "## Chi-Squared"
   ]
  },
  {
   "cell_type": "markdown",
   "metadata": {},
   "source": [
    "We want to see if there are any correlations between the categorical variables in our dataset."
   ]
  },
  {
   "cell_type": "code",
   "execution_count": 8,
   "metadata": {},
   "outputs": [
    {
     "data": {
      "text/html": [
       "<div>\n",
       "<style scoped>\n",
       "    .dataframe tbody tr th:only-of-type {\n",
       "        vertical-align: middle;\n",
       "    }\n",
       "\n",
       "    .dataframe tbody tr th {\n",
       "        vertical-align: top;\n",
       "    }\n",
       "\n",
       "    .dataframe thead th {\n",
       "        text-align: right;\n",
       "    }\n",
       "</style>\n",
       "<table border=\"1\" class=\"dataframe\">\n",
       "  <thead>\n",
       "    <tr style=\"text-align: right;\">\n",
       "      <th>placed</th>\n",
       "      <th>0</th>\n",
       "      <th>1</th>\n",
       "    </tr>\n",
       "    <tr>\n",
       "      <th>highest_level_of_education</th>\n",
       "      <th></th>\n",
       "      <th></th>\n",
       "    </tr>\n",
       "  </thead>\n",
       "  <tbody>\n",
       "    <tr>\n",
       "      <th>Bachelor's Degree</th>\n",
       "      <td>278</td>\n",
       "      <td>285</td>\n",
       "    </tr>\n",
       "    <tr>\n",
       "      <th>Doctorate or Professional Degree</th>\n",
       "      <td>18</td>\n",
       "      <td>23</td>\n",
       "    </tr>\n",
       "    <tr>\n",
       "      <th>GED or equivalent</th>\n",
       "      <td>3</td>\n",
       "      <td>1</td>\n",
       "    </tr>\n",
       "    <tr>\n",
       "      <th>High School Graduate</th>\n",
       "      <td>1</td>\n",
       "      <td>5</td>\n",
       "    </tr>\n",
       "    <tr>\n",
       "      <th>Master's Degree</th>\n",
       "      <td>161</td>\n",
       "      <td>159</td>\n",
       "    </tr>\n",
       "    <tr>\n",
       "      <th>Some College, No Degree</th>\n",
       "      <td>24</td>\n",
       "      <td>27</td>\n",
       "    </tr>\n",
       "    <tr>\n",
       "      <th>Some High School</th>\n",
       "      <td>2</td>\n",
       "      <td>1</td>\n",
       "    </tr>\n",
       "  </tbody>\n",
       "</table>\n",
       "</div>"
      ],
      "text/plain": [
       "placed                              0    1\n",
       "highest_level_of_education                \n",
       "Bachelor's Degree                 278  285\n",
       "Doctorate or Professional Degree   18   23\n",
       "GED or equivalent                   3    1\n",
       "High School Graduate                1    5\n",
       "Master's Degree                   161  159\n",
       "Some College, No Degree            24   27\n",
       "Some High School                    2    1"
      ]
     },
     "execution_count": 8,
     "metadata": {},
     "output_type": "execute_result"
    }
   ],
   "source": [
    "highest_level_of_education = pd.crosstab(df['highest_level_of_education'],df['placed'])\n",
    "chi2, p, dof, ex = chi2_contingency(highest_level_of_education, correction=False)\n",
    "highest_level_of_education "
   ]
  },
  {
   "cell_type": "code",
   "execution_count": 9,
   "metadata": {},
   "outputs": [
    {
     "data": {
      "text/html": [
       "<div>\n",
       "<style scoped>\n",
       "    .dataframe tbody tr th:only-of-type {\n",
       "        vertical-align: middle;\n",
       "    }\n",
       "\n",
       "    .dataframe tbody tr th {\n",
       "        vertical-align: top;\n",
       "    }\n",
       "\n",
       "    .dataframe thead th {\n",
       "        text-align: right;\n",
       "    }\n",
       "</style>\n",
       "<table border=\"1\" class=\"dataframe\">\n",
       "  <thead>\n",
       "    <tr style=\"text-align: right;\">\n",
       "      <th>placed</th>\n",
       "      <th>0</th>\n",
       "      <th>1</th>\n",
       "    </tr>\n",
       "    <tr>\n",
       "      <th>employment_status</th>\n",
       "      <th></th>\n",
       "      <th></th>\n",
       "    </tr>\n",
       "  </thead>\n",
       "  <tbody>\n",
       "    <tr>\n",
       "      <th>Contractor</th>\n",
       "      <td>42</td>\n",
       "      <td>36</td>\n",
       "    </tr>\n",
       "    <tr>\n",
       "      <th>Employed Full-Time</th>\n",
       "      <td>96</td>\n",
       "      <td>94</td>\n",
       "    </tr>\n",
       "    <tr>\n",
       "      <th>Employed Part-Time</th>\n",
       "      <td>54</td>\n",
       "      <td>60</td>\n",
       "    </tr>\n",
       "    <tr>\n",
       "      <th>Student</th>\n",
       "      <td>147</td>\n",
       "      <td>174</td>\n",
       "    </tr>\n",
       "    <tr>\n",
       "      <th>Unemployed</th>\n",
       "      <td>148</td>\n",
       "      <td>137</td>\n",
       "    </tr>\n",
       "  </tbody>\n",
       "</table>\n",
       "</div>"
      ],
      "text/plain": [
       "placed                0    1\n",
       "employment_status           \n",
       "Contractor           42   36\n",
       "Employed Full-Time   96   94\n",
       "Employed Part-Time   54   60\n",
       "Student             147  174\n",
       "Unemployed          148  137"
      ]
     },
     "execution_count": 9,
     "metadata": {},
     "output_type": "execute_result"
    }
   ],
   "source": [
    "employment_status = pd.crosstab(df['employment_status '],df['placed'])\n",
    "chi2, p, dof, ex = chi2_contingency(employment_status, correction=False)\n",
    "employment_status"
   ]
  },
  {
   "cell_type": "code",
   "execution_count": 11,
   "metadata": {},
   "outputs": [
    {
     "data": {
      "text/html": [
       "<div>\n",
       "<style scoped>\n",
       "    .dataframe tbody tr th:only-of-type {\n",
       "        vertical-align: middle;\n",
       "    }\n",
       "\n",
       "    .dataframe tbody tr th {\n",
       "        vertical-align: top;\n",
       "    }\n",
       "\n",
       "    .dataframe thead th {\n",
       "        text-align: right;\n",
       "    }\n",
       "</style>\n",
       "<table border=\"1\" class=\"dataframe\">\n",
       "  <thead>\n",
       "    <tr style=\"text-align: right;\">\n",
       "      <th>placed</th>\n",
       "      <th>0</th>\n",
       "      <th>1</th>\n",
       "    </tr>\n",
       "    <tr>\n",
       "      <th>length_of_job_search</th>\n",
       "      <th></th>\n",
       "      <th></th>\n",
       "    </tr>\n",
       "  </thead>\n",
       "  <tbody>\n",
       "    <tr>\n",
       "      <th>1-2 months</th>\n",
       "      <td>156</td>\n",
       "      <td>177</td>\n",
       "    </tr>\n",
       "    <tr>\n",
       "      <th>3-5 months</th>\n",
       "      <td>97</td>\n",
       "      <td>85</td>\n",
       "    </tr>\n",
       "    <tr>\n",
       "      <th>6 months to a year</th>\n",
       "      <td>48</td>\n",
       "      <td>52</td>\n",
       "    </tr>\n",
       "    <tr>\n",
       "      <th>Less than one month</th>\n",
       "      <td>166</td>\n",
       "      <td>162</td>\n",
       "    </tr>\n",
       "    <tr>\n",
       "      <th>Over a year</th>\n",
       "      <td>20</td>\n",
       "      <td>25</td>\n",
       "    </tr>\n",
       "  </tbody>\n",
       "</table>\n",
       "</div>"
      ],
      "text/plain": [
       "placed                  0    1\n",
       "length_of_job_search          \n",
       "1-2 months            156  177\n",
       "3-5 months             97   85\n",
       "6 months to a year     48   52\n",
       "Less than one month   166  162\n",
       "Over a year            20   25"
      ]
     },
     "execution_count": 11,
     "metadata": {},
     "output_type": "execute_result"
    }
   ],
   "source": [
    "length_of_job_search = pd.crosstab(df['length_of_job_search'],df['placed'])\n",
    "chi2, p, dof, ex = chi2_contingency(length_of_job_search, correction=False)\n",
    "length_of_job_search"
   ]
  },
  {
   "cell_type": "code",
   "execution_count": 12,
   "metadata": {},
   "outputs": [
    {
     "data": {
      "text/html": [
       "<div>\n",
       "<style scoped>\n",
       "    .dataframe tbody tr th:only-of-type {\n",
       "        vertical-align: middle;\n",
       "    }\n",
       "\n",
       "    .dataframe tbody tr th {\n",
       "        vertical-align: top;\n",
       "    }\n",
       "\n",
       "    .dataframe thead th {\n",
       "        text-align: right;\n",
       "    }\n",
       "</style>\n",
       "<table border=\"1\" class=\"dataframe\">\n",
       "  <thead>\n",
       "    <tr style=\"text-align: right;\">\n",
       "      <th>placed</th>\n",
       "      <th>0</th>\n",
       "      <th>1</th>\n",
       "    </tr>\n",
       "    <tr>\n",
       "      <th>biggest_challenge_in_search</th>\n",
       "      <th></th>\n",
       "      <th></th>\n",
       "    </tr>\n",
       "  </thead>\n",
       "  <tbody>\n",
       "    <tr>\n",
       "      <th>Behavioral interviewing</th>\n",
       "      <td>13</td>\n",
       "      <td>13</td>\n",
       "    </tr>\n",
       "    <tr>\n",
       "      <th>Figuring out which jobs to apply for</th>\n",
       "      <td>30</td>\n",
       "      <td>32</td>\n",
       "    </tr>\n",
       "    <tr>\n",
       "      <th>Getting past final round interviews</th>\n",
       "      <td>57</td>\n",
       "      <td>68</td>\n",
       "    </tr>\n",
       "    <tr>\n",
       "      <th>Getting past mid-stage interviews</th>\n",
       "      <td>37</td>\n",
       "      <td>37</td>\n",
       "    </tr>\n",
       "    <tr>\n",
       "      <th>Getting past phone screens</th>\n",
       "      <td>49</td>\n",
       "      <td>35</td>\n",
       "    </tr>\n",
       "    <tr>\n",
       "      <th>Hearing back on my applications</th>\n",
       "      <td>176</td>\n",
       "      <td>205</td>\n",
       "    </tr>\n",
       "    <tr>\n",
       "      <th>Lack of relevant experience</th>\n",
       "      <td>51</td>\n",
       "      <td>49</td>\n",
       "    </tr>\n",
       "    <tr>\n",
       "      <th>Resume gap</th>\n",
       "      <td>7</td>\n",
       "      <td>6</td>\n",
       "    </tr>\n",
       "    <tr>\n",
       "      <th>Technical interviewing</th>\n",
       "      <td>58</td>\n",
       "      <td>52</td>\n",
       "    </tr>\n",
       "    <tr>\n",
       "      <th>Technical skills</th>\n",
       "      <td>9</td>\n",
       "      <td>4</td>\n",
       "    </tr>\n",
       "  </tbody>\n",
       "</table>\n",
       "</div>"
      ],
      "text/plain": [
       "placed                                  0    1\n",
       "biggest_challenge_in_search                   \n",
       "Behavioral interviewing                13   13\n",
       "Figuring out which jobs to apply for   30   32\n",
       "Getting past final round interviews    57   68\n",
       "Getting past mid-stage interviews      37   37\n",
       "Getting past phone screens             49   35\n",
       "Hearing back on my applications       176  205\n",
       "Lack of relevant experience            51   49\n",
       "Resume gap                              7    6\n",
       "Technical interviewing                 58   52\n",
       "Technical skills                        9    4"
      ]
     },
     "execution_count": 12,
     "metadata": {},
     "output_type": "execute_result"
    }
   ],
   "source": [
    "biggest_challenge_in_search = pd.crosstab(df['biggest_challenge_in_search'],df['placed'])\n",
    "chi2, p, dof, ex = chi2_contingency(biggest_challenge_in_search, correction=False)\n",
    "biggest_challenge_in_search"
   ]
  },
  {
   "cell_type": "code",
   "execution_count": 13,
   "metadata": {},
   "outputs": [
    {
     "data": {
      "text/html": [
       "<div>\n",
       "<style scoped>\n",
       "    .dataframe tbody tr th:only-of-type {\n",
       "        vertical-align: middle;\n",
       "    }\n",
       "\n",
       "    .dataframe tbody tr th {\n",
       "        vertical-align: top;\n",
       "    }\n",
       "\n",
       "    .dataframe thead th {\n",
       "        text-align: right;\n",
       "    }\n",
       "</style>\n",
       "<table border=\"1\" class=\"dataframe\">\n",
       "  <thead>\n",
       "    <tr style=\"text-align: right;\">\n",
       "      <th>placed</th>\n",
       "      <th>0</th>\n",
       "      <th>1</th>\n",
       "    </tr>\n",
       "    <tr>\n",
       "      <th>professional_experience</th>\n",
       "      <th></th>\n",
       "      <th></th>\n",
       "    </tr>\n",
       "  </thead>\n",
       "  <tbody>\n",
       "    <tr>\n",
       "      <th>1-2 years</th>\n",
       "      <td>177</td>\n",
       "      <td>193</td>\n",
       "    </tr>\n",
       "    <tr>\n",
       "      <th>3-4 years</th>\n",
       "      <td>126</td>\n",
       "      <td>110</td>\n",
       "    </tr>\n",
       "    <tr>\n",
       "      <th>5+ years</th>\n",
       "      <td>53</td>\n",
       "      <td>60</td>\n",
       "    </tr>\n",
       "    <tr>\n",
       "      <th>Less than one year</th>\n",
       "      <td>131</td>\n",
       "      <td>138</td>\n",
       "    </tr>\n",
       "  </tbody>\n",
       "</table>\n",
       "</div>"
      ],
      "text/plain": [
       "placed                     0    1\n",
       "professional_experience          \n",
       "1-2 years                177  193\n",
       "3-4 years                126  110\n",
       "5+ years                  53   60\n",
       "Less than one year       131  138"
      ]
     },
     "execution_count": 13,
     "metadata": {},
     "output_type": "execute_result"
    }
   ],
   "source": [
    "professional_experience = pd.crosstab(df['professional_experience'],df['placed'])\n",
    "chi2, p, dof, ex = chi2_contingency(professional_experience, correction=False)\n",
    "professional_experience"
   ]
  },
  {
   "cell_type": "code",
   "execution_count": 14,
   "metadata": {},
   "outputs": [
    {
     "data": {
      "text/html": [
       "<div>\n",
       "<style scoped>\n",
       "    .dataframe tbody tr th:only-of-type {\n",
       "        vertical-align: middle;\n",
       "    }\n",
       "\n",
       "    .dataframe tbody tr th {\n",
       "        vertical-align: top;\n",
       "    }\n",
       "\n",
       "    .dataframe thead th {\n",
       "        text-align: right;\n",
       "    }\n",
       "</style>\n",
       "<table border=\"1\" class=\"dataframe\">\n",
       "  <thead>\n",
       "    <tr style=\"text-align: right;\">\n",
       "      <th>placed</th>\n",
       "      <th>0</th>\n",
       "      <th>1</th>\n",
       "    </tr>\n",
       "    <tr>\n",
       "      <th>work_authorization_status</th>\n",
       "      <th></th>\n",
       "      <th></th>\n",
       "    </tr>\n",
       "  </thead>\n",
       "  <tbody>\n",
       "    <tr>\n",
       "      <th>Canada Citizen</th>\n",
       "      <td>8</td>\n",
       "      <td>6</td>\n",
       "    </tr>\n",
       "    <tr>\n",
       "      <th>Citizen</th>\n",
       "      <td>233</td>\n",
       "      <td>250</td>\n",
       "    </tr>\n",
       "    <tr>\n",
       "      <th>F1 Visa/CPT</th>\n",
       "      <td>21</td>\n",
       "      <td>33</td>\n",
       "    </tr>\n",
       "    <tr>\n",
       "      <th>F1 Visa/OPT</th>\n",
       "      <td>146</td>\n",
       "      <td>134</td>\n",
       "    </tr>\n",
       "    <tr>\n",
       "      <th>Green Card</th>\n",
       "      <td>39</td>\n",
       "      <td>41</td>\n",
       "    </tr>\n",
       "    <tr>\n",
       "      <th>H1B</th>\n",
       "      <td>12</td>\n",
       "      <td>7</td>\n",
       "    </tr>\n",
       "    <tr>\n",
       "      <th>Not Authorized</th>\n",
       "      <td>3</td>\n",
       "      <td>0</td>\n",
       "    </tr>\n",
       "    <tr>\n",
       "      <th>Other</th>\n",
       "      <td>23</td>\n",
       "      <td>28</td>\n",
       "    </tr>\n",
       "    <tr>\n",
       "      <th>STEM OPT</th>\n",
       "      <td>2</td>\n",
       "      <td>2</td>\n",
       "    </tr>\n",
       "  </tbody>\n",
       "</table>\n",
       "</div>"
      ],
      "text/plain": [
       "placed                       0    1\n",
       "work_authorization_status          \n",
       "Canada Citizen               8    6\n",
       "Citizen                    233  250\n",
       "F1 Visa/CPT                 21   33\n",
       "F1 Visa/OPT                146  134\n",
       "Green Card                  39   41\n",
       "H1B                         12    7\n",
       "Not Authorized               3    0\n",
       "Other                       23   28\n",
       "STEM OPT                     2    2"
      ]
     },
     "execution_count": 14,
     "metadata": {},
     "output_type": "execute_result"
    }
   ],
   "source": [
    "work_authorization_status = pd.crosstab(df['work_authorization_status'],df['placed'])\n",
    "chi2, p, dof, ex = chi2_contingency(work_authorization_status, correction=False)\n",
    "work_authorization_status"
   ]
  },
  {
   "cell_type": "code",
   "execution_count": 15,
   "metadata": {},
   "outputs": [
    {
     "data": {
      "text/html": [
       "<div>\n",
       "<style scoped>\n",
       "    .dataframe tbody tr th:only-of-type {\n",
       "        vertical-align: middle;\n",
       "    }\n",
       "\n",
       "    .dataframe tbody tr th {\n",
       "        vertical-align: top;\n",
       "    }\n",
       "\n",
       "    .dataframe thead th {\n",
       "        text-align: right;\n",
       "    }\n",
       "</style>\n",
       "<table border=\"1\" class=\"dataframe\">\n",
       "  <thead>\n",
       "    <tr style=\"text-align: right;\">\n",
       "      <th>placed</th>\n",
       "      <th>0</th>\n",
       "      <th>1</th>\n",
       "    </tr>\n",
       "    <tr>\n",
       "      <th>cohort_tag</th>\n",
       "      <th></th>\n",
       "      <th></th>\n",
       "    </tr>\n",
       "  </thead>\n",
       "  <tbody>\n",
       "    <tr>\n",
       "      <th>APR18A</th>\n",
       "      <td>0</td>\n",
       "      <td>9</td>\n",
       "    </tr>\n",
       "    <tr>\n",
       "      <th>APR18B</th>\n",
       "      <td>6</td>\n",
       "      <td>10</td>\n",
       "    </tr>\n",
       "    <tr>\n",
       "      <th>APR19A</th>\n",
       "      <td>8</td>\n",
       "      <td>15</td>\n",
       "    </tr>\n",
       "    <tr>\n",
       "      <th>APR19B</th>\n",
       "      <td>9</td>\n",
       "      <td>7</td>\n",
       "    </tr>\n",
       "    <tr>\n",
       "      <th>APR20A</th>\n",
       "      <td>2</td>\n",
       "      <td>1</td>\n",
       "    </tr>\n",
       "    <tr>\n",
       "      <th>AUG18A</th>\n",
       "      <td>5</td>\n",
       "      <td>16</td>\n",
       "    </tr>\n",
       "    <tr>\n",
       "      <th>AUG19A</th>\n",
       "      <td>16</td>\n",
       "      <td>13</td>\n",
       "    </tr>\n",
       "    <tr>\n",
       "      <th>AUG19B</th>\n",
       "      <td>17</td>\n",
       "      <td>12</td>\n",
       "    </tr>\n",
       "    <tr>\n",
       "      <th>AUG19C</th>\n",
       "      <td>20</td>\n",
       "      <td>13</td>\n",
       "    </tr>\n",
       "    <tr>\n",
       "      <th>DEC18A</th>\n",
       "      <td>18</td>\n",
       "      <td>28</td>\n",
       "    </tr>\n",
       "    <tr>\n",
       "      <th>DEC19A</th>\n",
       "      <td>15</td>\n",
       "      <td>6</td>\n",
       "    </tr>\n",
       "    <tr>\n",
       "      <th>FEB18A</th>\n",
       "      <td>2</td>\n",
       "      <td>12</td>\n",
       "    </tr>\n",
       "    <tr>\n",
       "      <th>FEB19A</th>\n",
       "      <td>6</td>\n",
       "      <td>24</td>\n",
       "    </tr>\n",
       "    <tr>\n",
       "      <th>FEB19B</th>\n",
       "      <td>10</td>\n",
       "      <td>10</td>\n",
       "    </tr>\n",
       "    <tr>\n",
       "      <th>FEB20A</th>\n",
       "      <td>16</td>\n",
       "      <td>11</td>\n",
       "    </tr>\n",
       "    <tr>\n",
       "      <th>FEB20B</th>\n",
       "      <td>5</td>\n",
       "      <td>3</td>\n",
       "    </tr>\n",
       "    <tr>\n",
       "      <th>JAN18A</th>\n",
       "      <td>1</td>\n",
       "      <td>3</td>\n",
       "    </tr>\n",
       "    <tr>\n",
       "      <th>JAN19A</th>\n",
       "      <td>23</td>\n",
       "      <td>41</td>\n",
       "    </tr>\n",
       "    <tr>\n",
       "      <th>JAN19B</th>\n",
       "      <td>15</td>\n",
       "      <td>15</td>\n",
       "    </tr>\n",
       "    <tr>\n",
       "      <th>JAN20A</th>\n",
       "      <td>34</td>\n",
       "      <td>10</td>\n",
       "    </tr>\n",
       "    <tr>\n",
       "      <th>JAN20B</th>\n",
       "      <td>16</td>\n",
       "      <td>6</td>\n",
       "    </tr>\n",
       "    <tr>\n",
       "      <th>JUL19A</th>\n",
       "      <td>7</td>\n",
       "      <td>11</td>\n",
       "    </tr>\n",
       "    <tr>\n",
       "      <th>JUL19B</th>\n",
       "      <td>9</td>\n",
       "      <td>6</td>\n",
       "    </tr>\n",
       "    <tr>\n",
       "      <th>JUN18A</th>\n",
       "      <td>9</td>\n",
       "      <td>12</td>\n",
       "    </tr>\n",
       "    <tr>\n",
       "      <th>JUN19A</th>\n",
       "      <td>5</td>\n",
       "      <td>7</td>\n",
       "    </tr>\n",
       "    <tr>\n",
       "      <th>JUN19B</th>\n",
       "      <td>14</td>\n",
       "      <td>8</td>\n",
       "    </tr>\n",
       "    <tr>\n",
       "      <th>MAR18A</th>\n",
       "      <td>4</td>\n",
       "      <td>8</td>\n",
       "    </tr>\n",
       "    <tr>\n",
       "      <th>MAR19A</th>\n",
       "      <td>8</td>\n",
       "      <td>14</td>\n",
       "    </tr>\n",
       "    <tr>\n",
       "      <th>MAR19B</th>\n",
       "      <td>5</td>\n",
       "      <td>8</td>\n",
       "    </tr>\n",
       "    <tr>\n",
       "      <th>MAR20A</th>\n",
       "      <td>4</td>\n",
       "      <td>3</td>\n",
       "    </tr>\n",
       "    <tr>\n",
       "      <th>MAY18A</th>\n",
       "      <td>4</td>\n",
       "      <td>9</td>\n",
       "    </tr>\n",
       "    <tr>\n",
       "      <th>MAY19A</th>\n",
       "      <td>3</td>\n",
       "      <td>3</td>\n",
       "    </tr>\n",
       "    <tr>\n",
       "      <th>MAY19B</th>\n",
       "      <td>4</td>\n",
       "      <td>3</td>\n",
       "    </tr>\n",
       "    <tr>\n",
       "      <th>NOV18A</th>\n",
       "      <td>8</td>\n",
       "      <td>19</td>\n",
       "    </tr>\n",
       "    <tr>\n",
       "      <th>NOV19A</th>\n",
       "      <td>21</td>\n",
       "      <td>3</td>\n",
       "    </tr>\n",
       "    <tr>\n",
       "      <th>NOV19B</th>\n",
       "      <td>12</td>\n",
       "      <td>4</td>\n",
       "    </tr>\n",
       "    <tr>\n",
       "      <th>OCT18A</th>\n",
       "      <td>11</td>\n",
       "      <td>23</td>\n",
       "    </tr>\n",
       "    <tr>\n",
       "      <th>OCT18B</th>\n",
       "      <td>16</td>\n",
       "      <td>20</td>\n",
       "    </tr>\n",
       "    <tr>\n",
       "      <th>OCT19A</th>\n",
       "      <td>16</td>\n",
       "      <td>11</td>\n",
       "    </tr>\n",
       "    <tr>\n",
       "      <th>OCT19B</th>\n",
       "      <td>17</td>\n",
       "      <td>8</td>\n",
       "    </tr>\n",
       "    <tr>\n",
       "      <th>OCT21A</th>\n",
       "      <td>1</td>\n",
       "      <td>1</td>\n",
       "    </tr>\n",
       "    <tr>\n",
       "      <th>SEP18A</th>\n",
       "      <td>9</td>\n",
       "      <td>13</td>\n",
       "    </tr>\n",
       "    <tr>\n",
       "      <th>SEP18B</th>\n",
       "      <td>9</td>\n",
       "      <td>10</td>\n",
       "    </tr>\n",
       "    <tr>\n",
       "      <th>SEP18C</th>\n",
       "      <td>7</td>\n",
       "      <td>16</td>\n",
       "    </tr>\n",
       "    <tr>\n",
       "      <th>SEP19A</th>\n",
       "      <td>19</td>\n",
       "      <td>6</td>\n",
       "    </tr>\n",
       "    <tr>\n",
       "      <th>SEP19B</th>\n",
       "      <td>21</td>\n",
       "      <td>10</td>\n",
       "    </tr>\n",
       "  </tbody>\n",
       "</table>\n",
       "</div>"
      ],
      "text/plain": [
       "placed       0   1\n",
       "cohort_tag        \n",
       "APR18A       0   9\n",
       "APR18B       6  10\n",
       "APR19A       8  15\n",
       "APR19B       9   7\n",
       "APR20A       2   1\n",
       "AUG18A       5  16\n",
       "AUG19A      16  13\n",
       "AUG19B      17  12\n",
       "AUG19C      20  13\n",
       "DEC18A      18  28\n",
       "DEC19A      15   6\n",
       "FEB18A       2  12\n",
       "FEB19A       6  24\n",
       "FEB19B      10  10\n",
       "FEB20A      16  11\n",
       "FEB20B       5   3\n",
       "JAN18A       1   3\n",
       "JAN19A      23  41\n",
       "JAN19B      15  15\n",
       "JAN20A      34  10\n",
       "JAN20B      16   6\n",
       "JUL19A       7  11\n",
       "JUL19B       9   6\n",
       "JUN18A       9  12\n",
       "JUN19A       5   7\n",
       "JUN19B      14   8\n",
       "MAR18A       4   8\n",
       "MAR19A       8  14\n",
       "MAR19B       5   8\n",
       "MAR20A       4   3\n",
       "MAY18A       4   9\n",
       "MAY19A       3   3\n",
       "MAY19B       4   3\n",
       "NOV18A       8  19\n",
       "NOV19A      21   3\n",
       "NOV19B      12   4\n",
       "OCT18A      11  23\n",
       "OCT18B      16  20\n",
       "OCT19A      16  11\n",
       "OCT19B      17   8\n",
       "OCT21A       1   1\n",
       "SEP18A       9  13\n",
       "SEP18B       9  10\n",
       "SEP18C       7  16\n",
       "SEP19A      19   6\n",
       "SEP19B      21  10"
      ]
     },
     "execution_count": 15,
     "metadata": {},
     "output_type": "execute_result"
    }
   ],
   "source": [
    "cohort_tag = pd.crosstab(df['cohort_tag'],df['placed'])\n",
    "chi2, p, dof, ex = chi2_contingency(cohort_tag, correction=False)\n",
    "cohort_tag"
   ]
  },
  {
   "cell_type": "markdown",
   "metadata": {},
   "source": [
    "Our analysis shows us that only 'primary_track' has a significant relationship with 'placed'."
   ]
  },
  {
   "cell_type": "markdown",
   "metadata": {},
   "source": [
    "## ANOVA"
   ]
  },
  {
   "cell_type": "markdown",
   "metadata": {},
   "source": [
    "In this section, we want to look at the correlation between our numerical variables and 'placed'."
   ]
  },
  {
   "cell_type": "code",
   "execution_count": 16,
   "metadata": {},
   "outputs": [
    {
     "data": {
      "text/plain": [
       "F_onewayResult(statistic=0.4968984543353839, pvalue=0.4810325672694369)"
      ]
     },
     "execution_count": 16,
     "metadata": {},
     "output_type": "execute_result"
    }
   ],
   "source": [
    "f_oneway(df['number_of_interviews'][df['placed'] == 1],\n",
    "               df['number_of_interviews'][df['placed'] == 0])"
   ]
  },
  {
   "cell_type": "code",
   "execution_count": 17,
   "metadata": {},
   "outputs": [
    {
     "data": {
      "text/plain": [
       "F_onewayResult(statistic=0.00016274307079096282, pvalue=0.9898241801929569)"
      ]
     },
     "execution_count": 17,
     "metadata": {},
     "output_type": "execute_result"
    }
   ],
   "source": [
    "f_oneway(df['number_of_applications'][df['placed'] == 1],\n",
    "               df['number_of_applications'][df['placed'] == 0])"
   ]
  },
  {
   "cell_type": "code",
   "execution_count": 18,
   "metadata": {},
   "outputs": [
    {
     "data": {
      "text/plain": [
       "F_onewayResult(statistic=54.15366647321312, pvalue=3.9013114673298523e-13)"
      ]
     },
     "execution_count": 18,
     "metadata": {},
     "output_type": "execute_result"
    }
   ],
   "source": [
    "f_oneway(df['program_duration_days'][df['placed'] == 1],\n",
    "              df['program_duration_days'][df['placed'] == 0])\n"
   ]
  },
  {
   "cell_type": "markdown",
   "metadata": {},
   "source": [
    "There is a significant relationship between days in program and placement. "
   ]
  },
  {
   "cell_type": "markdown",
   "metadata": {},
   "source": [
    "## Placement "
   ]
  },
  {
   "cell_type": "markdown",
   "metadata": {},
   "source": [
    "Determining whether an applicant will be placed is a binary classification problem. We tackle this with a vanilla neural network as a starting point."
   ]
  },
  {
   "cell_type": "code",
   "execution_count": 20,
   "metadata": {},
   "outputs": [],
   "source": [
    "X_merge = df[['cohort_tag',\n",
    " 'program_duration_days',\n",
    " 'employment_status ',\n",
    " 'highest_level_of_education',\n",
    " 'length_of_job_search',\n",
    " 'biggest_challenge_in_search',\n",
    " 'professional_experience',\n",
    " 'work_authorization_status',\n",
    " 'number_of_interviews',\n",
    " 'number_of_applications']]"
   ]
  },
  {
   "cell_type": "code",
   "execution_count": 22,
   "metadata": {},
   "outputs": [],
   "source": [
    "y_merge = df['placed']"
   ]
  },
  {
   "cell_type": "code",
   "execution_count": 23,
   "metadata": {},
   "outputs": [],
   "source": [
    "X_train_merge, X_test_merge, y_train_merge, y_test_merge = train_test_split(X_merge, y_merge,test_size=.3,random_state=1)"
   ]
  },
  {
   "cell_type": "markdown",
   "metadata": {},
   "source": [
    "Because we have a large variety of types of data, we still need to have different preprocessing methods. 'highest_level_of_education' is an ordinal variable which means that labelencoding is the most effective method since it will convert the data into numerical representations and imply a hierarchical relationship for our model."
   ]
  },
  {
   "cell_type": "code",
   "execution_count": 24,
   "metadata": {},
   "outputs": [],
   "source": [
    "X_train_label = X_train_merge[['employment_status ','highest_level_of_education','professional_experience','work_authorization_status','length_of_job_search']]\n",
    "X_test_label = X_test_merge[['employment_status ','highest_level_of_education','professional_experience','work_authorization_status','length_of_job_search']]\n",
    "\n",
    "labelencoder = LabelEncoder()\n",
    "X_train_label = X_train_label.apply(labelencoder.fit_transform)\n",
    "X_test_label = X_test_label.apply(labelencoder.fit_transform)"
   ]
  },
  {
   "cell_type": "code",
   "execution_count": 25,
   "metadata": {},
   "outputs": [
    {
     "name": "stderr",
     "output_type": "stream",
     "text": [
      "<ipython-input-25-b60e3c052916>:4: SettingWithCopyWarning: \n",
      "A value is trying to be set on a copy of a slice from a DataFrame.\n",
      "Try using .loc[row_indexer,col_indexer] = value instead\n",
      "\n",
      "See the caveats in the documentation: https://pandas.pydata.org/pandas-docs/stable/user_guide/indexing.html#returning-a-view-versus-a-copy\n",
      "  X_train_merge[['number_of_interviews','number_of_applications','program_duration_days']] = scaler.fit_transform(X_train_merge[['number_of_interviews','number_of_applications','program_duration_days']])\n",
      "/Users/caleb/opt/anaconda3/lib/python3.8/site-packages/pandas/core/indexing.py:1736: SettingWithCopyWarning: \n",
      "A value is trying to be set on a copy of a slice from a DataFrame.\n",
      "Try using .loc[row_indexer,col_indexer] = value instead\n",
      "\n",
      "See the caveats in the documentation: https://pandas.pydata.org/pandas-docs/stable/user_guide/indexing.html#returning-a-view-versus-a-copy\n",
      "  isetter(loc, value[:, i].tolist())\n",
      "<ipython-input-25-b60e3c052916>:5: SettingWithCopyWarning: \n",
      "A value is trying to be set on a copy of a slice from a DataFrame.\n",
      "Try using .loc[row_indexer,col_indexer] = value instead\n",
      "\n",
      "See the caveats in the documentation: https://pandas.pydata.org/pandas-docs/stable/user_guide/indexing.html#returning-a-view-versus-a-copy\n",
      "  X_test_merge[['number_of_interviews','number_of_applications','program_duration_days']] = scaler.fit_transform(X_test_merge[['number_of_interviews','number_of_applications','program_duration_days']])\n",
      "/Users/caleb/opt/anaconda3/lib/python3.8/site-packages/pandas/core/indexing.py:1736: SettingWithCopyWarning: \n",
      "A value is trying to be set on a copy of a slice from a DataFrame.\n",
      "Try using .loc[row_indexer,col_indexer] = value instead\n",
      "\n",
      "See the caveats in the documentation: https://pandas.pydata.org/pandas-docs/stable/user_guide/indexing.html#returning-a-view-versus-a-copy\n",
      "  isetter(loc, value[:, i].tolist())\n"
     ]
    }
   ],
   "source": [
    "X_train_numerical = X_train_merge[['number_of_interviews','number_of_applications','program_duration_days']]\n",
    "X_test_numerical = X_test_merge[['number_of_interviews','number_of_applications','program_duration_days']]\n",
    "scaler = StandardScaler()\n",
    "X_train_merge[['number_of_interviews','number_of_applications','program_duration_days']] = scaler.fit_transform(X_train_merge[['number_of_interviews','number_of_applications','program_duration_days']])\n",
    "X_test_merge[['number_of_interviews','number_of_applications','program_duration_days']] = scaler.fit_transform(X_test_merge[['number_of_interviews','number_of_applications','program_duration_days']])\n",
    "X_train_numerical =X_train_merge[['number_of_interviews','number_of_applications','program_duration_days']] \n",
    "X_test_numerical = X_test_merge[['number_of_interviews','number_of_applications','program_duration_days']] "
   ]
  },
  {
   "cell_type": "markdown",
   "metadata": {},
   "source": [
    "We perform OneHotEncoding on variables that are categorical but are independent of one another."
   ]
  },
  {
   "cell_type": "code",
   "execution_count": 27,
   "metadata": {},
   "outputs": [],
   "source": [
    "columns = ['cohort_tag','primary_track','biggest_challenge_in_search']\n",
    "X_train_dum_df = pd.get_dummies(X_train_merge, columns=['cohort_tag','biggest_challenge_in_search'])\n",
    "X_train_dum_df = X_train_dum_df.iloc[:,7:]\n",
    "\n",
    "X_test_dum_df = pd.get_dummies(X_test_merge, columns=['cohort_tag','biggest_challenge_in_search'])\n",
    "X_test_dum_df = X_test_dum_df.iloc[:,7:]\n",
    "\n",
    "temp3 = [item for item in X_train_dum_df.columns if item not in X_test_dum_df.columns]\n",
    "temp4 = [item for item in X_test_dum_df.columns if item not in X_train_dum_df.columns]\n",
    "for i in temp3:\n",
    "    del X_train_dum_df[i]\n",
    "for i in temp4:\n",
    "    del X_test_dum_df[i]"
   ]
  },
  {
   "cell_type": "code",
   "execution_count": 28,
   "metadata": {},
   "outputs": [],
   "source": [
    "X_train_merge = pd.concat([X_train_label,X_train_dum_df], axis= 1)\n",
    "X_train_merge = pd.concat([X_train_numerical,X_train_merge], axis= 1)\n",
    "\n",
    "X_test_merge = pd.concat([X_test_label,X_test_dum_df], axis= 1)\n",
    "X_test_merge = pd.concat([X_test_numerical,X_test_merge], axis= 1)"
   ]
  },
  {
   "cell_type": "markdown",
   "metadata": {},
   "source": [
    "Next, we score and combine our model to get a sense of how well it predicts an applicants chance of placement."
   ]
  },
  {
   "cell_type": "code",
   "execution_count": 29,
   "metadata": {},
   "outputs": [
    {
     "name": "stderr",
     "output_type": "stream",
     "text": [
      "/Users/caleb/opt/anaconda3/lib/python3.8/site-packages/sklearn/neural_network/_multilayer_perceptron.py:582: ConvergenceWarning: Stochastic Optimizer: Maximum iterations (5000) reached and the optimization hasn't converged yet.\n",
      "  warnings.warn(\n"
     ]
    },
    {
     "data": {
      "text/plain": [
       "0.696969696969697"
      ]
     },
     "execution_count": 29,
     "metadata": {},
     "output_type": "execute_result"
    }
   ],
   "source": [
    "clf = MLPClassifier(hidden_layer_sizes=(128),random_state=1, max_iter=5000,solver='sgd',tol=0.000000001).fit(X_train_merge, y_train_merge)\n",
    "predict = clf.predict(X_test_merge)\n",
    "clf.score(X_test_merge, y_test_merge)"
   ]
  },
  {
   "cell_type": "markdown",
   "metadata": {},
   "source": [
    "## Days in Program\n"
   ]
  },
  {
   "cell_type": "markdown",
   "metadata": {},
   "source": [
    "The next section runs a neural network regression model that aims to predict the number of days it takes for someone to be placed."
   ]
  },
  {
   "cell_type": "code",
   "execution_count": 31,
   "metadata": {},
   "outputs": [],
   "source": [
    "df_placement = df[df['placed']==1]"
   ]
  },
  {
   "cell_type": "code",
   "execution_count": 34,
   "metadata": {},
   "outputs": [],
   "source": [
    "X_merge = df_placement[['cohort_tag',\n",
    " 'employment_status ',\n",
    " 'highest_level_of_education',\n",
    " 'length_of_job_search',\n",
    " 'biggest_challenge_in_search',\n",
    " 'professional_experience',\n",
    " 'work_authorization_status',\n",
    " 'number_of_interviews',\n",
    " 'number_of_applications']]"
   ]
  },
  {
   "cell_type": "code",
   "execution_count": 35,
   "metadata": {},
   "outputs": [],
   "source": [
    "y_merge = df_placement['program_duration_days']"
   ]
  },
  {
   "cell_type": "code",
   "execution_count": 36,
   "metadata": {},
   "outputs": [],
   "source": [
    "X_train_merge, X_test_merge, y_train_merge, y_test_merge = train_test_split(X_merge, y_merge,test_size=.20,random_state=1)"
   ]
  },
  {
   "cell_type": "code",
   "execution_count": 37,
   "metadata": {},
   "outputs": [],
   "source": [
    "X_train_label = X_train_merge[['highest_level_of_education','professional_experience','work_authorization_status','length_of_job_search']]\n",
    "X_test_label = X_test_merge[['highest_level_of_education','professional_experience','work_authorization_status','length_of_job_search']]\n",
    "\n",
    "X_train_label = X_train_label.apply(labelencoder.fit_transform)\n",
    "X_test_label = X_test_label.apply(labelencoder.fit_transform)"
   ]
  },
  {
   "cell_type": "code",
   "execution_count": 38,
   "metadata": {},
   "outputs": [
    {
     "name": "stderr",
     "output_type": "stream",
     "text": [
      "<ipython-input-38-185332873b49>:4: SettingWithCopyWarning: \n",
      "A value is trying to be set on a copy of a slice from a DataFrame.\n",
      "Try using .loc[row_indexer,col_indexer] = value instead\n",
      "\n",
      "See the caveats in the documentation: https://pandas.pydata.org/pandas-docs/stable/user_guide/indexing.html#returning-a-view-versus-a-copy\n",
      "  X_train_merge[['number_of_interviews','number_of_applications']] = scaler.fit_transform(X_train_merge[['number_of_interviews','number_of_applications']])\n",
      "/Users/caleb/opt/anaconda3/lib/python3.8/site-packages/pandas/core/indexing.py:1736: SettingWithCopyWarning: \n",
      "A value is trying to be set on a copy of a slice from a DataFrame.\n",
      "Try using .loc[row_indexer,col_indexer] = value instead\n",
      "\n",
      "See the caveats in the documentation: https://pandas.pydata.org/pandas-docs/stable/user_guide/indexing.html#returning-a-view-versus-a-copy\n",
      "  isetter(loc, value[:, i].tolist())\n",
      "<ipython-input-38-185332873b49>:5: SettingWithCopyWarning: \n",
      "A value is trying to be set on a copy of a slice from a DataFrame.\n",
      "Try using .loc[row_indexer,col_indexer] = value instead\n",
      "\n",
      "See the caveats in the documentation: https://pandas.pydata.org/pandas-docs/stable/user_guide/indexing.html#returning-a-view-versus-a-copy\n",
      "  X_test_merge[['number_of_interviews','number_of_applications']] = scaler.fit_transform(X_test_merge[['number_of_interviews','number_of_applications']])\n",
      "/Users/caleb/opt/anaconda3/lib/python3.8/site-packages/pandas/core/indexing.py:1736: SettingWithCopyWarning: \n",
      "A value is trying to be set on a copy of a slice from a DataFrame.\n",
      "Try using .loc[row_indexer,col_indexer] = value instead\n",
      "\n",
      "See the caveats in the documentation: https://pandas.pydata.org/pandas-docs/stable/user_guide/indexing.html#returning-a-view-versus-a-copy\n",
      "  isetter(loc, value[:, i].tolist())\n"
     ]
    }
   ],
   "source": [
    "X_train_numerical = X_train_merge[['number_of_interviews','number_of_applications']]\n",
    "X_test_numerical = X_test_merge[['number_of_interviews','number_of_applications']]\n",
    "scaler = StandardScaler()\n",
    "X_train_merge[['number_of_interviews','number_of_applications']] = scaler.fit_transform(X_train_merge[['number_of_interviews','number_of_applications']])\n",
    "X_test_merge[['number_of_interviews','number_of_applications']] = scaler.fit_transform(X_test_merge[['number_of_interviews','number_of_applications']])\n",
    "X_train_numerical =X_train_merge[['number_of_interviews','number_of_applications']] \n",
    "X_test_numerical = X_test_merge[['number_of_interviews','number_of_applications']] "
   ]
  },
  {
   "cell_type": "code",
   "execution_count": 41,
   "metadata": {},
   "outputs": [],
   "source": [
    "columns = ['cohort_tag','biggest_challenge_in_search']\n",
    "X_train_dum_df = pd.get_dummies(X_train_merge, columns=['cohort_tag','biggest_challenge_in_search'])\n",
    "X_train_dum_df = X_train_dum_df.iloc[:,7:]\n",
    "\n",
    "X_test_dum_df = pd.get_dummies(X_test_merge, columns=['cohort_tag','biggest_challenge_in_search'])\n",
    "X_test_dum_df = X_test_dum_df.iloc[:,7:]\n",
    "\n",
    "temp3 = [item for item in X_train_dum_df.columns if item not in X_test_dum_df.columns]\n",
    "temp4 = [item for item in X_test_dum_df.columns if item not in X_train_dum_df.columns]\n",
    "for i in temp3:\n",
    "    del X_train_dum_df[i]\n",
    "for i in temp4:\n",
    "    del X_test_dum_df[i]\n"
   ]
  },
  {
   "cell_type": "code",
   "execution_count": 42,
   "metadata": {},
   "outputs": [],
   "source": [
    "X_train_merge = pd.concat([X_train_label,X_train_dum_df], axis= 1)\n",
    "X_train_merge = pd.concat([X_train_numerical,X_train_merge], axis= 1)\n",
    "\n",
    "X_test_merge = pd.concat([X_test_label,X_test_dum_df], axis= 1)\n",
    "X_test_merge = pd.concat([X_test_numerical,X_test_merge], axis= 1)\n",
    "#X_train_merge = pd.concat([X_train_label,X_train_ohe], axis= 1)\n",
    "#X_test_merge = pd.concat([X_test_ohe,X_test_label], axis= 1)"
   ]
  },
  {
   "cell_type": "code",
   "execution_count": 43,
   "metadata": {},
   "outputs": [
    {
     "name": "stderr",
     "output_type": "stream",
     "text": [
      "/Users/caleb/opt/anaconda3/lib/python3.8/site-packages/sklearn/neural_network/_multilayer_perceptron.py:582: ConvergenceWarning: Stochastic Optimizer: Maximum iterations (5000) reached and the optimization hasn't converged yet.\n",
      "  warnings.warn(\n"
     ]
    },
    {
     "data": {
      "text/plain": [
       "0.06463085511946787"
      ]
     },
     "execution_count": 43,
     "metadata": {},
     "output_type": "execute_result"
    }
   ],
   "source": [
    "clf = MLPRegressor(random_state=1, max_iter=5000).fit(X_train_label, y_train_merge)\n",
    "predict = clf.predict(X_test_label)\n",
    "clf.score(X_test_label, y_test_merge)"
   ]
  },
  {
   "cell_type": "markdown",
   "metadata": {},
   "source": [
    "# Analysis"
   ]
  },
  {
   "cell_type": "markdown",
   "metadata": {},
   "source": [
    "Because some of the data was missing, we ended up filtering the dataset. Additionally, we removed columns that could be of ethical concern from our analysis. This ultimately limited the success of our classication and regression models that predicted placement and program duration. I am confident with more data, that the model will improve over time.\n",
    "\n",
    "Overall, there is a correlation for program track and cohort date play a role in whether or not someone is placed. For a majority of the summer months, almost more than half of the cohort did not end up being placed. There may be an underlying reason for this, perhaps it isn't the best season for hiring. Surprisingly, degree and amount of experience did not appear to have a significant relationship with placement. This is something to consider when looking at applicants and shows that there are factors like type of relevant work experience that could play major role in success within the program. "
   ]
  }
 ],
 "metadata": {
  "kernelspec": {
   "display_name": "Python 3",
   "language": "python",
   "name": "python3"
  },
  "language_info": {
   "codemirror_mode": {
    "name": "ipython",
    "version": 3
   },
   "file_extension": ".py",
   "mimetype": "text/x-python",
   "name": "python",
   "nbconvert_exporter": "python",
   "pygments_lexer": "ipython3",
   "version": "3.8.5"
  }
 },
 "nbformat": 4,
 "nbformat_minor": 4
}
